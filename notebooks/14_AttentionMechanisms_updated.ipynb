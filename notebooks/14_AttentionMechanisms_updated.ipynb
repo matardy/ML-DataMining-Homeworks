{
  "cells": [
    {
      "cell_type": "markdown",
      "metadata": {
        "id": "view-in-github",
        "colab_type": "text"
      },
      "source": [
        "<a href=\"https://colab.research.google.com/github/matardy/ML-DataMining-Homeworks/blob/master/notebooks/14_AttentionMechanisms_updated.ipynb\" target=\"_parent\"><img src=\"https://colab.research.google.com/assets/colab-badge.svg\" alt=\"Open In Colab\"/></a>"
      ]
    },
    {
      "cell_type": "markdown",
      "id": "1d7b04d62fa8c958",
      "metadata": {
        "collapsed": false,
        "id": "1d7b04d62fa8c958"
      },
      "source": [
        "# 14 Attention Mechanisms\n",
        "\n",
        "### Introduction to Attention Mechanisms\n",
        "\n",
        "In human cognition, attention is a powerful tool that allows us to focus on specific information while disregarding others. Imagine reading a book in a noisy cafe. Despite the surrounding chatter, your brain concentrates on the text, 'attending' to the book's contents. The concept of attention in deep learning is inspired by this very ability of our brain.\n",
        "\n",
        "### The Need for Attention in Deep Learning\n",
        "\n",
        "In the realm of deep learning, especially in tasks that deal with sequences (like translating a sentence from English to French), we often encounter situations where certain parts of the input sequence are more relevant to some parts of the output sequence than others. The traditional models, like Recurrent Neural Networks (RNNs), process sequences step-by-step and often struggle with long sequences. Over long distances, the information from initial steps might get diluted by the time we reach the current step.\n",
        "\n",
        "Attention mechanisms address this by allowing the network to 'focus' on different parts of the input, depending on the context. In essence, they weigh the importance of different inputs differently, hence directing the model's 'attention' towards more relevant data.\n",
        "\n",
        "### How Does Attention Work?\n",
        "\n",
        "At a high level, the attention mechanism computes a set of weights – the attention weights. These weights determine how much focus to place on various parts of the input for a given output. For instance, when translating a sentence, while predicting the next word in the target language, the attention mechanism might focus more on the last two words in the source language.\n",
        "\n",
        "Mathematically, this involves taking a dot product of the input and output representations, followed by a softmax operation to produce the attention weights. These weights are then used to produce a weighted sum of the input representations, giving us a context vector. This context vector, representative of the input sequence in light of the current output focus, is then used further in the processing.\n",
        "\n",
        "### Impact and Popularity\n",
        "\n",
        "Attention mechanisms dramatically improved the capabilities of neural networks in tasks like machine translation. Their success in sequence-to-sequence models led to their widespread adoption in various other domains, such as image captioning, speech recognition, and more.\n",
        "\n",
        "The true potential of attention was realized with the introduction of the Transformer architecture in the paper \"Attention is All You Need\" by Vaswani et al. [link](https://arxiv.org/abs/1706.03762). This architecture, relying heavily on self-attention mechanisms, set the stage for state-of-the-art models like BERT, GPT, and many others, which have since dominated the field of Natural Language Processing.\n",
        "\n",
        "In Conclusion, attention mechanisms have become a cornerstone in modern deep learning architectures. By enabling models to dynamically focus on different parts of the input data based on context, they allow for more flexible and powerful representations, leading to impressive improvements in a wide range of applications."
      ]
    },
    {
      "cell_type": "markdown",
      "id": "6e1dfd21",
      "metadata": {
        "collapsed": false,
        "id": "6e1dfd21"
      },
      "source": [
        "#### Exercise: Visualizing Attention Mechanisms\n",
        "\n",
        "Implement and visualize the dot-product attention mechanism using pre-trained embeddings from the spaCy library."
      ]
    },
    {
      "cell_type": "code",
      "execution_count": null,
      "id": "initial_id",
      "metadata": {
        "collapsed": true,
        "id": "initial_id",
        "outputId": "5f8b8f5a-20ba-482d-f925-7199b04bfdd4"
      },
      "outputs": [
        {
          "name": "stdout",
          "output_type": "stream",
          "text": [
            "Collecting en-core-web-md==3.6.0\n",
            "  Downloading https://github.com/explosion/spacy-models/releases/download/en_core_web_md-3.6.0/en_core_web_md-3.6.0-py3-none-any.whl (42.8 MB)\n",
            "     ---------------------------------------- 0.0/42.8 MB ? eta -:--:--\n",
            "     ---------------------------------------- 0.0/42.8 MB ? eta -:--:--\n",
            "     --------------------------------------- 0.0/42.8 MB 217.9 kB/s eta 0:03:17\n",
            "     --------------------------------------- 0.0/42.8 MB 281.8 kB/s eta 0:02:32\n",
            "     --------------------------------------- 0.1/42.8 MB 416.7 kB/s eta 0:01:43\n",
            "     --------------------------------------- 0.2/42.8 MB 701.4 kB/s eta 0:01:01\n",
            "     --------------------------------------- 0.2/42.8 MB 885.4 kB/s eta 0:00:49\n",
            "     ---------------------------------------- 0.4/42.8 MB 1.4 MB/s eta 0:00:31\n",
            "      --------------------------------------- 0.6/42.8 MB 1.6 MB/s eta 0:00:27\n",
            "      --------------------------------------- 1.0/42.8 MB 2.4 MB/s eta 0:00:18\n",
            "     - -------------------------------------- 1.4/42.8 MB 3.1 MB/s eta 0:00:14\n",
            "     - -------------------------------------- 2.1/42.8 MB 4.3 MB/s eta 0:00:10\n",
            "     --- ------------------------------------ 3.3/42.8 MB 6.0 MB/s eta 0:00:07\n",
            "     ---- ----------------------------------- 4.4/42.8 MB 7.6 MB/s eta 0:00:06\n",
            "     ----- ---------------------------------- 6.0/42.8 MB 9.3 MB/s eta 0:00:04\n",
            "     ------ --------------------------------- 7.4/42.8 MB 10.7 MB/s eta 0:00:04\n",
            "     -------- ------------------------------- 9.0/42.8 MB 12.2 MB/s eta 0:00:03\n",
            "     --------- ----------------------------- 10.2/42.8 MB 13.1 MB/s eta 0:00:03\n",
            "     ---------- ---------------------------- 11.2/42.8 MB 25.1 MB/s eta 0:00:02\n",
            "     ----------- --------------------------- 13.0/42.8 MB 29.7 MB/s eta 0:00:02\n",
            "     ------------- ------------------------- 14.7/42.8 MB 29.7 MB/s eta 0:00:01\n",
            "     -------------- ------------------------ 16.0/42.8 MB 29.7 MB/s eta 0:00:01\n",
            "     --------------- ----------------------- 17.3/42.8 MB 31.2 MB/s eta 0:00:01\n",
            "     ---------------- ---------------------- 18.4/42.8 MB 29.7 MB/s eta 0:00:01\n",
            "     ------------------ -------------------- 19.9/42.8 MB 31.2 MB/s eta 0:00:01\n",
            "     ------------------- ------------------- 20.9/42.8 MB 28.4 MB/s eta 0:00:01\n",
            "     -------------------- ------------------ 22.5/42.8 MB 29.7 MB/s eta 0:00:01\n",
            "     --------------------- ----------------- 23.7/42.8 MB 28.5 MB/s eta 0:00:01\n",
            "     ---------------------- ---------------- 25.1/42.8 MB 28.5 MB/s eta 0:00:01\n",
            "     ------------------------ -------------- 26.4/42.8 MB 28.5 MB/s eta 0:00:01\n",
            "     ------------------------- ------------- 27.5/42.8 MB 27.3 MB/s eta 0:00:01\n",
            "     ------------------------- ------------- 27.5/42.8 MB 27.3 MB/s eta 0:00:01\n",
            "     ------------------------- ------------- 27.5/42.8 MB 27.3 MB/s eta 0:00:01\n",
            "     ------------------------- ------------- 27.5/42.8 MB 27.3 MB/s eta 0:00:01\n",
            "     ------------------------- ------------- 27.5/42.8 MB 27.3 MB/s eta 0:00:01\n",
            "     -------------------------- ------------ 29.1/42.8 MB 19.9 MB/s eta 0:00:01\n",
            "     ---------------------------- ---------- 31.0/42.8 MB 19.9 MB/s eta 0:00:01\n",
            "     ----------------------------- --------- 32.2/42.8 MB 19.8 MB/s eta 0:00:01\n",
            "     ------------------------------- ------- 34.9/42.8 MB 21.1 MB/s eta 0:00:01\n",
            "     ---------------------------------- ---- 38.2/42.8 MB 46.7 MB/s eta 0:00:01\n",
            "     ----------------------------------- --- 39.4/42.8 MB 43.5 MB/s eta 0:00:01\n",
            "     ------------------------------------- - 40.7/42.8 MB 40.9 MB/s eta 0:00:01\n",
            "     --------------------------------------  41.9/42.8 MB 36.3 MB/s eta 0:00:01\n",
            "     --------------------------------------  42.8/42.8 MB 40.9 MB/s eta 0:00:01\n",
            "     --------------------------------------  42.8/42.8 MB 40.9 MB/s eta 0:00:01\n",
            "     --------------------------------------  42.8/42.8 MB 40.9 MB/s eta 0:00:01\n",
            "     --------------------------------------- 42.8/42.8 MB 24.2 MB/s eta 0:00:00\n",
            "Requirement already satisfied: spacy<3.7.0,>=3.6.0 in c:\\programdata\\anaconda3\\envs\\handson310\\lib\\site-packages (from en-core-web-md==3.6.0) (3.6.1)\n",
            "Requirement already satisfied: spacy-legacy<3.1.0,>=3.0.11 in c:\\programdata\\anaconda3\\envs\\handson310\\lib\\site-packages (from spacy<3.7.0,>=3.6.0->en-core-web-md==3.6.0) (3.0.12)\n",
            "Requirement already satisfied: spacy-loggers<2.0.0,>=1.0.0 in c:\\programdata\\anaconda3\\envs\\handson310\\lib\\site-packages (from spacy<3.7.0,>=3.6.0->en-core-web-md==3.6.0) (1.0.4)\n",
            "Requirement already satisfied: murmurhash<1.1.0,>=0.28.0 in c:\\programdata\\anaconda3\\envs\\handson310\\lib\\site-packages (from spacy<3.7.0,>=3.6.0->en-core-web-md==3.6.0) (1.0.9)\n",
            "Requirement already satisfied: cymem<2.1.0,>=2.0.2 in c:\\programdata\\anaconda3\\envs\\handson310\\lib\\site-packages (from spacy<3.7.0,>=3.6.0->en-core-web-md==3.6.0) (2.0.7)\n",
            "Requirement already satisfied: preshed<3.1.0,>=3.0.2 in c:\\programdata\\anaconda3\\envs\\handson310\\lib\\site-packages (from spacy<3.7.0,>=3.6.0->en-core-web-md==3.6.0) (3.0.8)\n",
            "Requirement already satisfied: thinc<8.2.0,>=8.1.8 in c:\\programdata\\anaconda3\\envs\\handson310\\lib\\site-packages (from spacy<3.7.0,>=3.6.0->en-core-web-md==3.6.0) (8.1.12)\n",
            "Requirement already satisfied: wasabi<1.2.0,>=0.9.1 in c:\\programdata\\anaconda3\\envs\\handson310\\lib\\site-packages (from spacy<3.7.0,>=3.6.0->en-core-web-md==3.6.0) (1.1.2)\n",
            "Requirement already satisfied: srsly<3.0.0,>=2.4.3 in c:\\programdata\\anaconda3\\envs\\handson310\\lib\\site-packages (from spacy<3.7.0,>=3.6.0->en-core-web-md==3.6.0) (2.4.7)\n",
            "Requirement already satisfied: catalogue<2.1.0,>=2.0.6 in c:\\programdata\\anaconda3\\envs\\handson310\\lib\\site-packages (from spacy<3.7.0,>=3.6.0->en-core-web-md==3.6.0) (2.0.9)\n",
            "Requirement already satisfied: typer<0.10.0,>=0.3.0 in c:\\programdata\\anaconda3\\envs\\handson310\\lib\\site-packages (from spacy<3.7.0,>=3.6.0->en-core-web-md==3.6.0) (0.9.0)\n",
            "Requirement already satisfied: pathy>=0.10.0 in c:\\programdata\\anaconda3\\envs\\handson310\\lib\\site-packages (from spacy<3.7.0,>=3.6.0->en-core-web-md==3.6.0) (0.10.2)\n",
            "Requirement already satisfied: smart-open<7.0.0,>=5.2.1 in c:\\programdata\\anaconda3\\envs\\handson310\\lib\\site-packages (from spacy<3.7.0,>=3.6.0->en-core-web-md==3.6.0) (6.3.0)\n",
            "Requirement already satisfied: tqdm<5.0.0,>=4.38.0 in c:\\programdata\\anaconda3\\envs\\handson310\\lib\\site-packages (from spacy<3.7.0,>=3.6.0->en-core-web-md==3.6.0) (4.65.0)\n",
            "Requirement already satisfied: numpy>=1.15.0 in c:\\programdata\\anaconda3\\envs\\handson310\\lib\\site-packages (from spacy<3.7.0,>=3.6.0->en-core-web-md==3.6.0) (1.24.3)\n",
            "Requirement already satisfied: requests<3.0.0,>=2.13.0 in c:\\programdata\\anaconda3\\envs\\handson310\\lib\\site-packages (from spacy<3.7.0,>=3.6.0->en-core-web-md==3.6.0) (2.31.0)\n",
            "Requirement already satisfied: pydantic!=1.8,!=1.8.1,<3.0.0,>=1.7.4 in c:\\programdata\\anaconda3\\envs\\handson310\\lib\\site-packages (from spacy<3.7.0,>=3.6.0->en-core-web-md==3.6.0) (2.2.1)\n",
            "Requirement already satisfied: jinja2 in c:\\programdata\\anaconda3\\envs\\handson310\\lib\\site-packages (from spacy<3.7.0,>=3.6.0->en-core-web-md==3.6.0) (3.1.2)\n",
            "Requirement already satisfied: setuptools in c:\\programdata\\anaconda3\\envs\\handson310\\lib\\site-packages (from spacy<3.7.0,>=3.6.0->en-core-web-md==3.6.0) (68.0.0)\n",
            "Requirement already satisfied: packaging>=20.0 in c:\\programdata\\anaconda3\\envs\\handson310\\lib\\site-packages (from spacy<3.7.0,>=3.6.0->en-core-web-md==3.6.0) (23.1)\n",
            "Requirement already satisfied: langcodes<4.0.0,>=3.2.0 in c:\\programdata\\anaconda3\\envs\\handson310\\lib\\site-packages (from spacy<3.7.0,>=3.6.0->en-core-web-md==3.6.0) (3.3.0)\n",
            "Requirement already satisfied: annotated-types>=0.4.0 in c:\\programdata\\anaconda3\\envs\\handson310\\lib\\site-packages (from pydantic!=1.8,!=1.8.1,<3.0.0,>=1.7.4->spacy<3.7.0,>=3.6.0->en-core-web-md==3.6.0) (0.5.0)\n",
            "Requirement already satisfied: pydantic-core==2.6.1 in c:\\programdata\\anaconda3\\envs\\handson310\\lib\\site-packages (from pydantic!=1.8,!=1.8.1,<3.0.0,>=1.7.4->spacy<3.7.0,>=3.6.0->en-core-web-md==3.6.0) (2.6.1)\n",
            "Requirement already satisfied: typing-extensions>=4.6.1 in c:\\programdata\\anaconda3\\envs\\handson310\\lib\\site-packages (from pydantic!=1.8,!=1.8.1,<3.0.0,>=1.7.4->spacy<3.7.0,>=3.6.0->en-core-web-md==3.6.0) (4.7.1)\n",
            "Requirement already satisfied: charset-normalizer<4,>=2 in c:\\programdata\\anaconda3\\envs\\handson310\\lib\\site-packages (from requests<3.0.0,>=2.13.0->spacy<3.7.0,>=3.6.0->en-core-web-md==3.6.0) (3.2.0)\n",
            "Requirement already satisfied: idna<4,>=2.5 in c:\\programdata\\anaconda3\\envs\\handson310\\lib\\site-packages (from requests<3.0.0,>=2.13.0->spacy<3.7.0,>=3.6.0->en-core-web-md==3.6.0) (3.4)\n",
            "Requirement already satisfied: urllib3<3,>=1.21.1 in c:\\programdata\\anaconda3\\envs\\handson310\\lib\\site-packages (from requests<3.0.0,>=2.13.0->spacy<3.7.0,>=3.6.0->en-core-web-md==3.6.0) (1.26.16)\n",
            "Requirement already satisfied: certifi>=2017.4.17 in c:\\programdata\\anaconda3\\envs\\handson310\\lib\\site-packages (from requests<3.0.0,>=2.13.0->spacy<3.7.0,>=3.6.0->en-core-web-md==3.6.0) (2023.7.22)\n",
            "Requirement already satisfied: blis<0.8.0,>=0.7.8 in c:\\programdata\\anaconda3\\envs\\handson310\\lib\\site-packages (from thinc<8.2.0,>=8.1.8->spacy<3.7.0,>=3.6.0->en-core-web-md==3.6.0) (0.7.10)\n",
            "Requirement already satisfied: confection<1.0.0,>=0.0.1 in c:\\programdata\\anaconda3\\envs\\handson310\\lib\\site-packages (from thinc<8.2.0,>=8.1.8->spacy<3.7.0,>=3.6.0->en-core-web-md==3.6.0) (0.1.1)\n",
            "Requirement already satisfied: colorama in c:\\programdata\\anaconda3\\envs\\handson310\\lib\\site-packages (from tqdm<5.0.0,>=4.38.0->spacy<3.7.0,>=3.6.0->en-core-web-md==3.6.0) (0.4.6)\n",
            "Requirement already satisfied: click<9.0.0,>=7.1.1 in c:\\programdata\\anaconda3\\envs\\handson310\\lib\\site-packages (from typer<0.10.0,>=0.3.0->spacy<3.7.0,>=3.6.0->en-core-web-md==3.6.0) (8.1.6)\n",
            "Requirement already satisfied: MarkupSafe>=2.0 in c:\\programdata\\anaconda3\\envs\\handson310\\lib\\site-packages (from jinja2->spacy<3.7.0,>=3.6.0->en-core-web-md==3.6.0) (2.1.3)\n",
            "Installing collected packages: en-core-web-md\n",
            "Successfully installed en-core-web-md-3.6.0\n",
            "\u001b[38;5;2m[+] Download and installation successful\u001b[0m\n",
            "You can now load the package via spacy.load('en_core_web_md')\n"
          ]
        }
      ],
      "source": [
        "#Download embeddings from the spaCy library\n",
        "!python -m spacy download en_core_web_md"
      ]
    },
    {
      "cell_type": "markdown",
      "id": "27e415bb",
      "metadata": {
        "collapsed": false,
        "id": "27e415bb"
      },
      "source": [
        "Use spaCy to load the en_core_web_md model for pre-trained embeddings"
      ]
    },
    {
      "cell_type": "code",
      "execution_count": null,
      "id": "eca9c596",
      "metadata": {
        "id": "eca9c596"
      },
      "outputs": [],
      "source": [
        "import spacy\n",
        "nlp = spacy.load(\"en_core_web_md\")"
      ]
    },
    {
      "cell_type": "markdown",
      "id": "7ab4e0af",
      "metadata": {
        "collapsed": false,
        "id": "7ab4e0af"
      },
      "source": [
        "Implement the dot-product attention mechanism."
      ]
    },
    {
      "cell_type": "code",
      "execution_count": null,
      "id": "0b6a0b9b",
      "metadata": {
        "id": "0b6a0b9b"
      },
      "outputs": [],
      "source": [
        "import numpy as np\n",
        "\n",
        "def dot_product_attention(query, key, value):\n",
        "    \"\"\"Compute the dot product attention scores and return the weighted sum of values.\"\"\"\n",
        "    scores = np.dot(query, key.T)\n",
        "    normalized_scores = scores / np.linalg.norm(scores)\n",
        "    weights = np.exp(normalized_scores) / np.sum(np.exp(normalized_scores))\n",
        "    return weights, np.sum(weights[:, np.newaxis] * value, axis=0)"
      ]
    },
    {
      "cell_type": "code",
      "execution_count": null,
      "id": "a06cf0d6",
      "metadata": {
        "id": "a06cf0d6"
      },
      "outputs": [],
      "source": [
        "!pip install spacy\n",
        "!python -m spacy download en_core_web_md"
      ]
    },
    {
      "cell_type": "code",
      "execution_count": null,
      "id": "41fe9de5",
      "metadata": {
        "id": "41fe9de5"
      },
      "outputs": [],
      "source": [
        "\n",
        "import spacy\n",
        "import numpy as np\n",
        "\n",
        "# Load the pre-trained model\n",
        "nlp = spacy.load('en_core_web_md')\n",
        "\n",
        "def dot_product_attention(query, keys):\n",
        "    \"\"\"Compute attention scores using dot product.\n",
        "\n",
        "    Args:\n",
        "    - query (numpy array): Query vector.\n",
        "    - keys (list of numpy arrays): List of key vectors.\n",
        "\n",
        "    Returns:\n",
        "    - attention_scores (numpy array): Normalized attention scores.\n",
        "    \"\"\"\n",
        "    raw_scores = np.array([np.dot(query, key) for key in keys])\n",
        "\n",
        "    # Normalize using softmax\n",
        "    attention_scores = np.exp(raw_scores) / np.sum(np.exp(raw_scores))\n",
        "\n",
        "    return attention_scores\n",
        "\n",
        "# Test\n",
        "sentence = \"The quick brown fox jumps over the lazy dog.\"\n",
        "query_word = \"fox\"\n",
        "\n",
        "# Convert the sentence and query word to vectors using spaCy\n",
        "doc = nlp(sentence)\n",
        "query_vector = nlp(query_word).vector\n",
        "key_vectors = [word.vector for word in doc]\n",
        "\n",
        "attention_scores = dot_product_attention(query_vector, key_vectors)\n",
        "print(attention_scores)\n"
      ]
    },
    {
      "cell_type": "code",
      "execution_count": null,
      "id": "16b02af1",
      "metadata": {
        "id": "16b02af1"
      },
      "outputs": [],
      "source": [
        "\n",
        "import matplotlib.pyplot as plt\n",
        "\n",
        "def visualize_attention(sentence, attention_scores):\n",
        "    \"\"\"Visualize attention scores for each word in the sentence.\n",
        "\n",
        "    Args:\n",
        "    - sentence (str): The original sentence.\n",
        "    - attention_scores (numpy array): Attention scores for each word.\n",
        "    \"\"\"\n",
        "    words = sentence.split()\n",
        "\n",
        "    plt.figure(figsize=(12, 6))\n",
        "    plt.bar(words, attention_scores)\n",
        "    plt.xlabel(\"Words\")\n",
        "    plt.ylabel(\"Attention Scores\")\n",
        "    plt.title(\"Attention Scores for each word\")\n",
        "    plt.xticks(rotation=45)\n",
        "    plt.tight_layout()\n",
        "    plt.show()\n",
        "\n",
        "# Visualize the attention scores\n",
        "visualize_attention(sentence, attention_scores)\n"
      ]
    },
    {
      "cell_type": "markdown",
      "id": "e3bffb2a",
      "metadata": {
        "collapsed": false,
        "id": "e3bffb2a"
      },
      "source": [
        "Visualize Attention:\n",
        "    Given a sentence and a query word from that sentence, visualize the attention scores for each word in the sentence with respect to the query word."
      ]
    },
    {
      "cell_type": "code",
      "execution_count": null,
      "id": "af28af37",
      "metadata": {
        "id": "af28af37"
      },
      "outputs": [],
      "source": [
        "import matplotlib.pyplot as plt\n",
        "\n",
        "def visualize_attention(sentence, query_word):\n",
        "    \"\"\"Visualize attention scores for a given query word within a sentence.\"\"\"\n",
        "    tokens = [token for token in nlp(sentence)]\n",
        "    query_vector = nlp(query_word).vector\n",
        "    key_values = np.array([token.vector for token in tokens])\n",
        "    weights, _ = dot_product_attention(query_vector, key_values, key_values)\n",
        "    plt.figure(figsize=(12, 4))\n",
        "    plt.bar(range(len(tokens)), weights)\n",
        "    plt.xticks(range(len(tokens)), [token.text for token in tokens], rotation=45)\n",
        "    plt.ylabel('Attention Scores')\n",
        "    plt.title(f'Attention Scores for Query: {query_word}')\n",
        "    plt.show()"
      ]
    },
    {
      "cell_type": "markdown",
      "id": "8083818a",
      "metadata": {
        "collapsed": false,
        "id": "8083818a"
      },
      "source": []
    },
    {
      "cell_type": "code",
      "execution_count": null,
      "id": "600b53de",
      "metadata": {
        "id": "600b53de",
        "outputId": "742f109e-ee07-4a2b-a1be-090b32e0635d"
      },
      "outputs": [
        {
          "data": {
            "image/png": "[encoded data removed]",
            "text/plain": [
              "<Figure size 1200x400 with 1 Axes>"
            ]
          },
          "metadata": {},
          "output_type": "display_data"
        }
      ],
      "source": [
        "sentence = \"The quick brown fox jumps over the lazy dog\"\n",
        "query_word = \"quick\"\n",
        "visualize_attention(sentence, query_word)"
      ]
    }
  ],
  "metadata": {
    "kernelspec": {
      "display_name": "Python 3",
      "language": "python",
      "name": "python3"
    },
    "language_info": {
      "codemirror_mode": {
        "name": "ipython",
        "version": 2
      },
      "file_extension": ".py",
      "mimetype": "text/x-python",
      "name": "python",
      "nbconvert_exporter": "python",
      "pygments_lexer": "ipython2",
      "version": "2.7.6"
    },
    "colab": {
      "provenance": [],
      "include_colab_link": true
    }
  },
  "nbformat": 4,
  "nbformat_minor": 5
}