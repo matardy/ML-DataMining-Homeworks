{
 "cells": [
  {
   "cell_type": "markdown",
   "metadata": {
    "collapsed": false
   },
   "source": [
    "# 1 Hands On: Data Import and Manipulation"
   ]
  },
  {
   "cell_type": "code",
   "execution_count": 62,
   "metadata": {},
   "outputs": [],
   "source": [
    "# Libraries \n",
    "import random\n",
    "import math\n",
    "import numpy as np\n",
    "import pandas as pd\n",
    "import matplotlib.pyplot as plt\n",
    "import seaborn as sns"
   ]
  },
  {
   "cell_type": "markdown",
   "metadata": {
    "collapsed": false
   },
   "source": [
    "## 1. Introduction to Python for Machine Learning\n",
    "(a) Create an array of 10 random integers between 1 and 100, and then calculate the mean and standard deviation of the array."
   ]
  },
  {
   "cell_type": "code",
   "execution_count": 3,
   "metadata": {},
   "outputs": [
    {
     "name": "stdout",
     "output_type": "stream",
     "text": [
      " \n",
      "Array content: [67 62 41 19 36  5  4 77 33 88]\n",
      "Mean: 43.2\n",
      "Standar Deviation: 27.949239703433793\n",
      "\n"
     ]
    }
   ],
   "source": [
    "# With a simple line of code, an array with random numbers it is generated\n",
    "array = np.random.randint(1, 101, size = 10)\n",
    "\n",
    "# Show the data \n",
    "data = f\"\"\" \n",
    "Array content: {array}\n",
    "Mean: {array.mean()}\n",
    "Standar Deviation: {array.std()}\n",
    "\"\"\"\n",
    "print(data)"
   ]
  },
  {
   "cell_type": "markdown",
   "metadata": {
    "collapsed": false
   },
   "source": [
    "(b) Create a 2-dimensional array of 3 rows and 4 columns with random integer values. Then, calculate the sum of each row and column."
   ]
  },
  {
   "cell_type": "code",
   "execution_count": 6,
   "metadata": {
    "collapsed": false
   },
   "outputs": [
    {
     "name": "stdout",
     "output_type": "stream",
     "text": [
      "\n",
      "Array 2D:\n",
      "\n",
      "[[ 58 160  45 126]\n",
      " [124  76 179 181]\n",
      " [174  98  72 194]]\n",
      "\n",
      "\n",
      "Sum of rows: [389 560 538]\n",
      "Sum of colums: [356 334 296 501]\n",
      "\n"
     ]
    }
   ],
   "source": [
    "import random\n",
    "\n",
    "# Create a 2-dimensional array of 3 rows and 4 columns with random integer values\n",
    "array_2d = np.random.randint(1, 201, size = (3,4))\n",
    "\n",
    "# Sum of each row\n",
    "# .sum() method makes and axis-sum for each other axis\n",
    "rows = array_2d.sum(axis = 1)\n",
    "cols = array_2d.sum(axis = 0)\n",
    "\n",
    "data = f\"\"\"\n",
    "Array 2D:\n",
    "\n",
    "{array_2d}\n",
    "\n",
    "\n",
    "Sum of rows: {rows}\n",
    "Sum of colums: {cols}\n",
    "\"\"\"\n",
    "print(data)"
   ]
  },
  {
   "cell_type": "markdown",
   "metadata": {
    "collapsed": false
   },
   "source": [
    "(c) Create a DataFrame with 3 columns: \"Name\", \"Age\", and \"City\". Add at least 5 rows of data to the DataFrame. Then, filter the DataFrame to only include rows where the person's age is greater than or equal to 30."
   ]
  },
  {
   "cell_type": "code",
   "execution_count": 7,
   "metadata": {
    "collapsed": false
   },
   "outputs": [
    {
     "data": {
      "text/html": [
       "<div>\n",
       "<style scoped>\n",
       "    .dataframe tbody tr th:only-of-type {\n",
       "        vertical-align: middle;\n",
       "    }\n",
       "\n",
       "    .dataframe tbody tr th {\n",
       "        vertical-align: top;\n",
       "    }\n",
       "\n",
       "    .dataframe thead th {\n",
       "        text-align: right;\n",
       "    }\n",
       "</style>\n",
       "<table border=\"1\" class=\"dataframe\">\n",
       "  <thead>\n",
       "    <tr style=\"text-align: right;\">\n",
       "      <th></th>\n",
       "      <th>Name</th>\n",
       "      <th>Age</th>\n",
       "      <th>City</th>\n",
       "    </tr>\n",
       "  </thead>\n",
       "  <tbody>\n",
       "    <tr>\n",
       "      <th>1</th>\n",
       "      <td>Pepe</td>\n",
       "      <td>35</td>\n",
       "      <td>Guayaquil</td>\n",
       "    </tr>\n",
       "    <tr>\n",
       "      <th>2</th>\n",
       "      <td>Miguel</td>\n",
       "      <td>42</td>\n",
       "      <td>Sangolqui</td>\n",
       "    </tr>\n",
       "    <tr>\n",
       "      <th>4</th>\n",
       "      <td>Vanessa</td>\n",
       "      <td>31</td>\n",
       "      <td>Cuenca</td>\n",
       "    </tr>\n",
       "  </tbody>\n",
       "</table>\n",
       "</div>"
      ],
      "text/plain": [
       "      Name  Age       City\n",
       "1     Pepe   35  Guayaquil\n",
       "2   Miguel   42  Sangolqui\n",
       "4  Vanessa   31     Cuenca"
      ]
     },
     "execution_count": 7,
     "metadata": {},
     "output_type": "execute_result"
    }
   ],
   "source": [
    "# Create a DataFrame\n",
    "data = {\n",
    "    \"Name\": [\"Juan\", \"Pepe\", \"Miguel\", \"Sofia\", \"Vanessa\"],\n",
    "    \"Age\": [25, 35, 42, 28, 31],\n",
    "    \"City\": [\"Quito\", \"Guayaquil\", \"Sangolqui\", \"Manta\", \"Cuenca\"]\n",
    "}\n",
    "\n",
    "df = pd.DataFrame(data)\n",
    "\n",
    "# Filter the DataFrame\n",
    "filtered_df = df[df[\"Age\"] >= 30]\n",
    "\n",
    "# Print the filtered DataFrame\n",
    "filtered_df"
   ]
  },
  {
   "cell_type": "markdown",
   "metadata": {
    "collapsed": false
   },
   "source": [
    "(d) Load a CSV file into a DataFrame and then calculate the mean, median, and mode of one of the columns in the DataFrame"
   ]
  },
  {
   "cell_type": "code",
   "execution_count": 9,
   "metadata": {
    "collapsed": false
   },
   "outputs": [
    {
     "name": "stdout",
     "output_type": "stream",
     "text": [
      "Mean: 7.062087248798731\n",
      "Median: 6.0\n",
      "Mode: 0    6\n",
      "Name: VersionNum, dtype: int64\n"
     ]
    },
    {
     "data": {
      "text/html": [
       "<div>\n",
       "<style scoped>\n",
       "    .dataframe tbody tr th:only-of-type {\n",
       "        vertical-align: middle;\n",
       "    }\n",
       "\n",
       "    .dataframe tbody tr th {\n",
       "        vertical-align: top;\n",
       "    }\n",
       "\n",
       "    .dataframe thead th {\n",
       "        text-align: right;\n",
       "    }\n",
       "</style>\n",
       "<table border=\"1\" class=\"dataframe\">\n",
       "  <thead>\n",
       "    <tr style=\"text-align: right;\">\n",
       "      <th></th>\n",
       "      <th>BusinessYear</th>\n",
       "      <th>StateCode</th>\n",
       "      <th>IssuerId</th>\n",
       "      <th>SourceName</th>\n",
       "      <th>VersionNum</th>\n",
       "      <th>ImportDate</th>\n",
       "      <th>IssuerId2</th>\n",
       "      <th>StateCode2</th>\n",
       "      <th>ServiceAreaId</th>\n",
       "      <th>ServiceAreaName</th>\n",
       "      <th>CoverEntireState</th>\n",
       "      <th>County</th>\n",
       "      <th>PartialCounty</th>\n",
       "      <th>ZipCodes</th>\n",
       "      <th>PartialCountyJustification</th>\n",
       "      <th>RowNumber</th>\n",
       "      <th>MarketCoverage</th>\n",
       "      <th>DentalOnlyPlan</th>\n",
       "    </tr>\n",
       "  </thead>\n",
       "  <tbody>\n",
       "    <tr>\n",
       "      <th>0</th>\n",
       "      <td>2014</td>\n",
       "      <td>PA</td>\n",
       "      <td>22444</td>\n",
       "      <td>HIOS</td>\n",
       "      <td>9</td>\n",
       "      <td>2014-01-21 08:29:49</td>\n",
       "      <td>22444</td>\n",
       "      <td>PA</td>\n",
       "      <td>PAS001</td>\n",
       "      <td>Geisinger Health Plan</td>\n",
       "      <td>No</td>\n",
       "      <td>42103.0</td>\n",
       "      <td>No</td>\n",
       "      <td>NaN</td>\n",
       "      <td>NaN</td>\n",
       "      <td>42</td>\n",
       "      <td>NaN</td>\n",
       "      <td>NaN</td>\n",
       "    </tr>\n",
       "    <tr>\n",
       "      <th>1</th>\n",
       "      <td>2014</td>\n",
       "      <td>PA</td>\n",
       "      <td>22444</td>\n",
       "      <td>HIOS</td>\n",
       "      <td>9</td>\n",
       "      <td>2014-01-21 08:29:49</td>\n",
       "      <td>22444</td>\n",
       "      <td>PA</td>\n",
       "      <td>PAS001</td>\n",
       "      <td>Geisinger Health Plan</td>\n",
       "      <td>No</td>\n",
       "      <td>42105.0</td>\n",
       "      <td>No</td>\n",
       "      <td>NaN</td>\n",
       "      <td>NaN</td>\n",
       "      <td>43</td>\n",
       "      <td>NaN</td>\n",
       "      <td>NaN</td>\n",
       "    </tr>\n",
       "    <tr>\n",
       "      <th>2</th>\n",
       "      <td>2014</td>\n",
       "      <td>PA</td>\n",
       "      <td>22444</td>\n",
       "      <td>HIOS</td>\n",
       "      <td>9</td>\n",
       "      <td>2014-01-21 08:29:49</td>\n",
       "      <td>22444</td>\n",
       "      <td>PA</td>\n",
       "      <td>PAS001</td>\n",
       "      <td>Geisinger Health Plan</td>\n",
       "      <td>No</td>\n",
       "      <td>42107.0</td>\n",
       "      <td>No</td>\n",
       "      <td>NaN</td>\n",
       "      <td>NaN</td>\n",
       "      <td>44</td>\n",
       "      <td>NaN</td>\n",
       "      <td>NaN</td>\n",
       "    </tr>\n",
       "    <tr>\n",
       "      <th>3</th>\n",
       "      <td>2014</td>\n",
       "      <td>PA</td>\n",
       "      <td>22444</td>\n",
       "      <td>HIOS</td>\n",
       "      <td>9</td>\n",
       "      <td>2014-01-21 08:29:49</td>\n",
       "      <td>22444</td>\n",
       "      <td>PA</td>\n",
       "      <td>PAS001</td>\n",
       "      <td>Geisinger Health Plan</td>\n",
       "      <td>No</td>\n",
       "      <td>42109.0</td>\n",
       "      <td>No</td>\n",
       "      <td>NaN</td>\n",
       "      <td>NaN</td>\n",
       "      <td>45</td>\n",
       "      <td>NaN</td>\n",
       "      <td>NaN</td>\n",
       "    </tr>\n",
       "    <tr>\n",
       "      <th>4</th>\n",
       "      <td>2014</td>\n",
       "      <td>PA</td>\n",
       "      <td>22444</td>\n",
       "      <td>HIOS</td>\n",
       "      <td>9</td>\n",
       "      <td>2014-01-21 08:29:49</td>\n",
       "      <td>22444</td>\n",
       "      <td>PA</td>\n",
       "      <td>PAS001</td>\n",
       "      <td>Geisinger Health Plan</td>\n",
       "      <td>No</td>\n",
       "      <td>42111.0</td>\n",
       "      <td>No</td>\n",
       "      <td>NaN</td>\n",
       "      <td>NaN</td>\n",
       "      <td>46</td>\n",
       "      <td>NaN</td>\n",
       "      <td>NaN</td>\n",
       "    </tr>\n",
       "  </tbody>\n",
       "</table>\n",
       "</div>"
      ],
      "text/plain": [
       "   BusinessYear StateCode  IssuerId SourceName  VersionNum  \\\n",
       "0          2014        PA     22444       HIOS           9   \n",
       "1          2014        PA     22444       HIOS           9   \n",
       "2          2014        PA     22444       HIOS           9   \n",
       "3          2014        PA     22444       HIOS           9   \n",
       "4          2014        PA     22444       HIOS           9   \n",
       "\n",
       "            ImportDate  IssuerId2 StateCode2 ServiceAreaId  \\\n",
       "0  2014-01-21 08:29:49      22444         PA        PAS001   \n",
       "1  2014-01-21 08:29:49      22444         PA        PAS001   \n",
       "2  2014-01-21 08:29:49      22444         PA        PAS001   \n",
       "3  2014-01-21 08:29:49      22444         PA        PAS001   \n",
       "4  2014-01-21 08:29:49      22444         PA        PAS001   \n",
       "\n",
       "         ServiceAreaName CoverEntireState   County PartialCounty ZipCodes  \\\n",
       "0  Geisinger Health Plan               No  42103.0            No      NaN   \n",
       "1  Geisinger Health Plan               No  42105.0            No      NaN   \n",
       "2  Geisinger Health Plan               No  42107.0            No      NaN   \n",
       "3  Geisinger Health Plan               No  42109.0            No      NaN   \n",
       "4  Geisinger Health Plan               No  42111.0            No      NaN   \n",
       "\n",
       "  PartialCountyJustification  RowNumber MarketCoverage DentalOnlyPlan  \n",
       "0                        NaN         42            NaN            NaN  \n",
       "1                        NaN         43            NaN            NaN  \n",
       "2                        NaN         44            NaN            NaN  \n",
       "3                        NaN         45            NaN            NaN  \n",
       "4                        NaN         46            NaN            NaN  "
      ]
     },
     "execution_count": 9,
     "metadata": {},
     "output_type": "execute_result"
    }
   ],
   "source": [
    "import pandas as pd\n",
    "\n",
    "# Load the CSV file into a DataFrame\n",
    "df = pd.read_csv('../data/01_datamanip/servicearea.csv')\n",
    "\n",
    "# Calculate the mean of a column\n",
    "column_mean = df['VersionNum'].mean()\n",
    "\n",
    "# Calculate the median of a column\n",
    "column_median = df['VersionNum'].median()\n",
    "\n",
    "# Calculate the mode of a column\n",
    "column_mode = df['VersionNum'].mode()\n",
    "\n",
    "# Print the mean, median, and mode\n",
    "print(\"Mean:\", column_mean)\n",
    "print(\"Median:\", column_median)\n",
    "print(\"Mode:\", column_mode)\n",
    "# Print the header of the DataFrame\n",
    "df.head()"
   ]
  },
  {
   "cell_type": "markdown",
   "metadata": {
    "collapsed": false
   },
   "source": [
    "(e) Create a scatter plot of random x and y values between 1 and 100"
   ]
  },
  {
   "cell_type": "code",
   "execution_count": 13,
   "metadata": {
    "collapsed": false
   },
   "outputs": [
    {
     "data": {
      "image/png": "[encoded data removed]",
      "text/plain": [
       "<Figure size 640x480 with 1 Axes>"
      ]
     },
     "metadata": {},
     "output_type": "display_data"
    }
   ],
   "source": [
    "# Generate random x and y values\n",
    "x = np.random.randint(1, 150, size = 200)\n",
    "y = np.random.randint(1, 100, size = 200)\n",
    "\n",
    "# Create a scatter plot\n",
    "plt.scatter(x, y)\n",
    "\n",
    "# Add labels and title\n",
    "plt.xlabel('X values')\n",
    "plt.ylabel('Y values')\n",
    "plt.title('Scatter Plot of Random X and Y Values')\n",
    "\n",
    "# Show the plot\n",
    "plt.show()"
   ]
  },
  {
   "cell_type": "markdown",
   "metadata": {
    "collapsed": false
   },
   "source": [
    "(f) Load a CSV file into a DataFrame and then create a line chart of one of the columns in the DataFrame."
   ]
  },
  {
   "cell_type": "code",
   "execution_count": 14,
   "metadata": {
    "collapsed": false
   },
   "outputs": [
    {
     "data": {
      "image/png": "[encoded data removed]",
      "text/plain": [
       "<Figure size 640x480 with 1 Axes>"
      ]
     },
     "metadata": {},
     "output_type": "display_data"
    }
   ],
   "source": [
    "import pandas as pd\n",
    "import matplotlib.pyplot as plt\n",
    "\n",
    "# Load the CSV file into a DataFrame\n",
    "df = pd.read_csv('../data/01_datamanip/servicearea.csv')\n",
    "\n",
    "# Create a line chart of a column\n",
    "plt.plot(df['BusinessYear'])\n",
    "\n",
    "# Add labels and title\n",
    "plt.xlabel('Index')\n",
    "plt.ylabel('BusinessYear')\n",
    "plt.title('Line Chart of BusinessYear')\n",
    "\n",
    "# Show the plot\n",
    "plt.show()"
   ]
  },
  {
   "attachments": {},
   "cell_type": "markdown",
   "metadata": {},
   "source": [
    "## 2. Data Import\n",
    "### The Echocardiogram data set in the UCI Machine Learning repository contains information on a set of patients that suffered heart attacks at some point in the past."
   ]
  },
  {
   "attachments": {},
   "cell_type": "markdown",
   "metadata": {},
   "source": [
    "a) Download the Echocardiogram data set and import it to a data frame. Read the information on the \n",
    "data set and find out how missing values are represented and make sure that they are properly \n",
    "represented."
   ]
  },
  {
   "cell_type": "code",
   "execution_count": 18,
   "metadata": {},
   "outputs": [
    {
     "name": "stdout",
     "output_type": "stream",
     "text": [
      "1. Title: Echocardiogram Data\n",
      "\n",
      "2. Source Information:\n",
      "   -- Donor: Steven Salzberg (salzberg@cs.jhu.edu)\n",
      "   -- Collector:\n",
      "      -- Dr. Evlin Kinney\n",
      "      -- The Reed Institute\n",
      "      -- P.O. Box 402603\n",
      "      -- Maimi, FL 33140-0603\n",
      "   -- Date Received: 28 February 1989\n",
      "\n",
      "3. Past Usage:\n",
      "   -- 1. Salzberg, S. (1988).  Exemplar-based learning: Theory and\n",
      "         implementation (Technical Report TR-10-88).  Harvard University,\n",
      "         Center for Research in Computing Technology, Aiken Computation\n",
      "         Laboratory (33 Oxford Street; Cambridge, MA 02138).\n",
      "      -- Steve applied his EACH program to predict survival (i.e., life\n",
      "         or death), did not use the wall-motion attribute, and recorded 87 \n",
      "         correct and 29 incorrect in an incremental application to this\n",
      "         database.  He also showed that, by tuning EACH to this domain,\n",
      "         EACH was able to derive (non-incrementally) a set of 28 \n",
      "         hyper-rectangles that could perfectly classify 119 instances.\n",
      "   -- 2. Kan, G., Visser, C., Kooler, J., & Dunning, A. (1986).  Short\n",
      "         and long term predictive value of wall motion score in acute \n",
      "         myocardial infarction.  British Heart Journal, 56, 422-427.\n",
      "      -- They predicted the same variable (whether patients will live\n",
      "         one year after a heart attack) using a different set of 345\n",
      "         instances.  Their statistical test recorded a 61% accuracy\n",
      "         in predicting that a patient will die (post-hoc fit).\n",
      "   -- 3. Elvin Kinney (in communication with Steven Salzberg) reported\n",
      "         that a Cox regression application recorded a 60% accuracy\n",
      "         in predicting that a patient will die.\n",
      "\n",
      "4. Relevant Information:\n",
      "  -- All the patients suffered heart attacks at some point in the past.\n",
      "     Some are still alive and some are not.  The survival and still-alive\n",
      "     variables, when taken together, indicate whether a patient survived\n",
      "     for at least one year following the heart attack.  \n",
      "\n",
      "     The problem addressed by past researchers was to predict from the \n",
      "     other variables whether or not the patient will survive at least\n",
      "     one year.  The most difficult part of this problem is correctly\n",
      "     predicting that the patient will NOT survive.  (Part of the difficulty\n",
      "     seems to be the size of the data set.)\n",
      "\n",
      "5. Number of Instances: 132\n",
      "\n",
      "6. Number of Attributes: 13 (all numeric-valued)\n",
      "\n",
      "7. Attribute Information:\n",
      "   1. survival -- the number of months patient survived (has survived,\n",
      "\t\t  if patient is still alive).  Because all the patients\n",
      "\t\t  had their heart attacks at different times, it is \n",
      "\t\t  possible that some patients have survived less than\n",
      "\t\t  one year but they are still alive.  Check the second\n",
      "\t\t  variable to confirm this.  Such patients cannot be \n",
      "\t\t  used for the prediction task mentioned above.\n",
      "   2. still-alive -- a binary variable.  0=dead at end of survival period,\n",
      "\t\t     1 means still alive \n",
      "   3. age-at-heart-attack -- age in years when heart attack occurred\n",
      "   4. pericardial-effusion -- binary. Pericardial effusion is fluid\n",
      "\t\t\t      around the heart.  0=no fluid, 1=fluid\n",
      "   5. fractional-shortening -- a measure of contracility around the heart\n",
      "\t\t\t       lower numbers are increasingly abnormal\n",
      "   6. epss -- E-point septal separation, another measure of contractility.  \n",
      "\t      Larger numbers are increasingly abnormal.\n",
      "   7. lvdd -- left ventricular end-diastolic dimension.  This is\n",
      "\t      a measure of the size of the heart at end-diastole.\n",
      "\t      Large hearts tend to be sick hearts.\n",
      "   8. wall-motion-score -- a measure of how the segments of the left\n",
      "\t\t\t   ventricle are moving\n",
      "   9. wall-motion-index -- equals wall-motion-score divided by number of\n",
      "\t\t\t   segments seen.  Usually 12-13 segments are seen\n",
      "\t\t\t   in an echocardiogram.  Use this variable INSTEAD\n",
      "\t\t\t   of the wall motion score.\n",
      "   10. mult -- a derivate var which can be ignored\n",
      "   11. name -- the name of the patient (I have replaced them with \"name\")\n",
      "   12. group -- meaningless, ignore it\n",
      "   13. alive-at-1 -- Boolean-valued. Derived from the first two attributes.\n",
      "                     0 means patient was either dead after 1 year or had\n",
      "                     been followed for less than 1 year.  1 means patient \n",
      "                     was alive at 1 year.\n",
      "\n",
      "8. Missing Attribute Values: (denoted by \"?\")\n",
      "   Attribute #:    Number of Missing Values: (total: 132)\n",
      "   ------------    -------------------------\n",
      "              1    2  \n",
      "              2\t   1  \n",
      "              3\t   5  \n",
      "              4\t   1  \n",
      "              5\t   8  \n",
      "              6\t   15 \n",
      "              7\t   11 \n",
      "              8\t   4  \n",
      "              9\t   1  \n",
      "             10\t   4 \n",
      "             11\t   0 \n",
      "             12\t   22\n",
      "             13\t   58\n",
      "\n",
      "9. Distribution of attribute number 2: still-alive\n",
      "   Value   Number of instances with this value\n",
      "    ----   -----------------------------------\n",
      "      0    88 (dead)\n",
      "      1    43 (alive)\n",
      "      ?    1\n",
      "    Total  132\n",
      "\n",
      "\n",
      "10. Distribution of attribute number 13: alive-at-1\n",
      "   Value   Number of instances with this value\n",
      "    ----   -----------------------------------\n",
      "      0    50\n",
      "      1    24\n",
      "      ?    58\n",
      "    Total  132\n",
      "\n"
     ]
    }
   ],
   "source": [
    "# Read the features names or columns names\n",
    "with open('../data/01_datamanip/echocardiogram.names', 'r') as f:\n",
    "    print(f.read())"
   ]
  },
  {
   "cell_type": "code",
   "execution_count": 19,
   "metadata": {},
   "outputs": [
    {
     "data": {
      "text/html": [
       "<div>\n",
       "<style scoped>\n",
       "    .dataframe tbody tr th:only-of-type {\n",
       "        vertical-align: middle;\n",
       "    }\n",
       "\n",
       "    .dataframe tbody tr th {\n",
       "        vertical-align: top;\n",
       "    }\n",
       "\n",
       "    .dataframe thead th {\n",
       "        text-align: right;\n",
       "    }\n",
       "</style>\n",
       "<table border=\"1\" class=\"dataframe\">\n",
       "  <thead>\n",
       "    <tr style=\"text-align: right;\">\n",
       "      <th></th>\n",
       "      <th>survival</th>\n",
       "      <th>still-alive</th>\n",
       "      <th>age-at-heart-attack</th>\n",
       "      <th>pericardial-effusion</th>\n",
       "      <th>fractional-shortening</th>\n",
       "      <th>epss</th>\n",
       "      <th>lvdd</th>\n",
       "      <th>wall-motion-score</th>\n",
       "      <th>wall-motion-index</th>\n",
       "      <th>mult</th>\n",
       "      <th>name</th>\n",
       "      <th>group</th>\n",
       "      <th>alive-at-1</th>\n",
       "    </tr>\n",
       "  </thead>\n",
       "  <tbody>\n",
       "    <tr>\n",
       "      <th>0</th>\n",
       "      <td>11</td>\n",
       "      <td>0</td>\n",
       "      <td>71</td>\n",
       "      <td>0</td>\n",
       "      <td>0.260</td>\n",
       "      <td>9</td>\n",
       "      <td>4.600</td>\n",
       "      <td>14</td>\n",
       "      <td>1</td>\n",
       "      <td>1</td>\n",
       "      <td>name</td>\n",
       "      <td>1</td>\n",
       "      <td>0</td>\n",
       "    </tr>\n",
       "    <tr>\n",
       "      <th>1</th>\n",
       "      <td>19</td>\n",
       "      <td>0</td>\n",
       "      <td>72</td>\n",
       "      <td>0</td>\n",
       "      <td>0.380</td>\n",
       "      <td>6</td>\n",
       "      <td>4.100</td>\n",
       "      <td>14</td>\n",
       "      <td>1.700</td>\n",
       "      <td>0.588</td>\n",
       "      <td>name</td>\n",
       "      <td>1</td>\n",
       "      <td>0</td>\n",
       "    </tr>\n",
       "    <tr>\n",
       "      <th>2</th>\n",
       "      <td>16</td>\n",
       "      <td>0</td>\n",
       "      <td>55</td>\n",
       "      <td>0</td>\n",
       "      <td>0.260</td>\n",
       "      <td>4</td>\n",
       "      <td>3.420</td>\n",
       "      <td>14</td>\n",
       "      <td>1</td>\n",
       "      <td>1</td>\n",
       "      <td>name</td>\n",
       "      <td>1</td>\n",
       "      <td>0</td>\n",
       "    </tr>\n",
       "    <tr>\n",
       "      <th>3</th>\n",
       "      <td>57</td>\n",
       "      <td>0</td>\n",
       "      <td>60</td>\n",
       "      <td>0</td>\n",
       "      <td>0.253</td>\n",
       "      <td>12.062</td>\n",
       "      <td>4.603</td>\n",
       "      <td>16</td>\n",
       "      <td>1.450</td>\n",
       "      <td>0.788</td>\n",
       "      <td>name</td>\n",
       "      <td>1</td>\n",
       "      <td>0</td>\n",
       "    </tr>\n",
       "    <tr>\n",
       "      <th>4</th>\n",
       "      <td>19</td>\n",
       "      <td>1</td>\n",
       "      <td>57</td>\n",
       "      <td>0</td>\n",
       "      <td>0.160</td>\n",
       "      <td>22</td>\n",
       "      <td>5.750</td>\n",
       "      <td>18</td>\n",
       "      <td>2.250</td>\n",
       "      <td>0.571</td>\n",
       "      <td>name</td>\n",
       "      <td>1</td>\n",
       "      <td>0</td>\n",
       "    </tr>\n",
       "    <tr>\n",
       "      <th>...</th>\n",
       "      <td>...</td>\n",
       "      <td>...</td>\n",
       "      <td>...</td>\n",
       "      <td>...</td>\n",
       "      <td>...</td>\n",
       "      <td>...</td>\n",
       "      <td>...</td>\n",
       "      <td>...</td>\n",
       "      <td>...</td>\n",
       "      <td>...</td>\n",
       "      <td>...</td>\n",
       "      <td>...</td>\n",
       "      <td>...</td>\n",
       "    </tr>\n",
       "    <tr>\n",
       "      <th>127</th>\n",
       "      <td>7.5</td>\n",
       "      <td>1</td>\n",
       "      <td>64</td>\n",
       "      <td>0</td>\n",
       "      <td>0.24</td>\n",
       "      <td>12.9</td>\n",
       "      <td>4.72</td>\n",
       "      <td>12</td>\n",
       "      <td>1</td>\n",
       "      <td>0.857</td>\n",
       "      <td>name</td>\n",
       "      <td>?</td>\n",
       "      <td>?</td>\n",
       "    </tr>\n",
       "    <tr>\n",
       "      <th>128</th>\n",
       "      <td>41</td>\n",
       "      <td>0</td>\n",
       "      <td>64</td>\n",
       "      <td>0</td>\n",
       "      <td>0.28</td>\n",
       "      <td>5.40</td>\n",
       "      <td>5.47</td>\n",
       "      <td>11</td>\n",
       "      <td>1.10</td>\n",
       "      <td>0.714</td>\n",
       "      <td>name</td>\n",
       "      <td>?</td>\n",
       "      <td>?</td>\n",
       "    </tr>\n",
       "    <tr>\n",
       "      <th>129</th>\n",
       "      <td>36</td>\n",
       "      <td>0</td>\n",
       "      <td>69</td>\n",
       "      <td>0</td>\n",
       "      <td>0.20</td>\n",
       "      <td>7.00</td>\n",
       "      <td>5.05</td>\n",
       "      <td>14.5</td>\n",
       "      <td>1.21</td>\n",
       "      <td>0.857</td>\n",
       "      <td>name</td>\n",
       "      <td>?</td>\n",
       "      <td>?</td>\n",
       "    </tr>\n",
       "    <tr>\n",
       "      <th>130</th>\n",
       "      <td>22</td>\n",
       "      <td>0</td>\n",
       "      <td>57</td>\n",
       "      <td>0</td>\n",
       "      <td>0.14</td>\n",
       "      <td>16.1</td>\n",
       "      <td>4.36</td>\n",
       "      <td>15</td>\n",
       "      <td>1.36</td>\n",
       "      <td>0.786</td>\n",
       "      <td>name</td>\n",
       "      <td>?</td>\n",
       "      <td>?</td>\n",
       "    </tr>\n",
       "    <tr>\n",
       "      <th>131</th>\n",
       "      <td>20</td>\n",
       "      <td>0</td>\n",
       "      <td>62</td>\n",
       "      <td>0</td>\n",
       "      <td>0.15</td>\n",
       "      <td>0</td>\n",
       "      <td>4.51</td>\n",
       "      <td>15.5</td>\n",
       "      <td>1.409</td>\n",
       "      <td>0.786</td>\n",
       "      <td>name</td>\n",
       "      <td>?</td>\n",
       "      <td>?</td>\n",
       "    </tr>\n",
       "  </tbody>\n",
       "</table>\n",
       "<p>132 rows × 13 columns</p>\n",
       "</div>"
      ],
      "text/plain": [
       "    survival still-alive age-at-heart-attack pericardial-effusion  \\\n",
       "0         11           0                  71                    0   \n",
       "1         19           0                  72                    0   \n",
       "2         16           0                  55                    0   \n",
       "3         57           0                  60                    0   \n",
       "4         19           1                  57                    0   \n",
       "..       ...         ...                 ...                  ...   \n",
       "127      7.5           1                  64                    0   \n",
       "128       41           0                  64                    0   \n",
       "129       36           0                  69                    0   \n",
       "130       22           0                  57                    0   \n",
       "131       20           0                  62                    0   \n",
       "\n",
       "    fractional-shortening    epss   lvdd wall-motion-score wall-motion-index  \\\n",
       "0                   0.260       9  4.600                14                 1   \n",
       "1                   0.380       6  4.100                14             1.700   \n",
       "2                   0.260       4  3.420                14                 1   \n",
       "3                   0.253  12.062  4.603                16             1.450   \n",
       "4                   0.160      22  5.750                18             2.250   \n",
       "..                    ...     ...    ...               ...               ...   \n",
       "127                  0.24    12.9   4.72                12                 1   \n",
       "128                  0.28    5.40   5.47                11              1.10   \n",
       "129                  0.20    7.00   5.05              14.5              1.21   \n",
       "130                  0.14    16.1   4.36                15              1.36   \n",
       "131                  0.15       0   4.51              15.5             1.409   \n",
       "\n",
       "      mult  name group alive-at-1  \n",
       "0        1  name     1          0  \n",
       "1    0.588  name     1          0  \n",
       "2        1  name     1          0  \n",
       "3    0.788  name     1          0  \n",
       "4    0.571  name     1          0  \n",
       "..     ...   ...   ...        ...  \n",
       "127  0.857  name     ?          ?  \n",
       "128  0.714  name     ?          ?  \n",
       "129  0.857  name     ?          ?  \n",
       "130  0.786  name     ?          ?  \n",
       "131  0.786  name     ?          ?  \n",
       "\n",
       "[132 rows x 13 columns]"
      ]
     },
     "execution_count": 19,
     "metadata": {},
     "output_type": "execute_result"
    }
   ],
   "source": [
    "# Get column names information from .names file\n",
    "columns = ['survival','still-alive','age-at-heart-attack','pericardial-effusion', \n",
    "           'fractional-shortening','epss','lvdd', 'wall-motion-score', 'wall-motion-index', \n",
    "           'mult','name', 'group', 'alive-at-1']\n",
    "df = pd.read_csv('../data/01_datamanip/echocardiogram.data', names = columns)\n",
    "df"
   ]
  },
  {
   "attachments": {},
   "cell_type": "markdown",
   "metadata": {},
   "source": [
    "As we can see, aparently this dataset have no null values, but for the information we have from .names file, we now that null values are represented as `?`"
   ]
  },
  {
   "cell_type": "code",
   "execution_count": 21,
   "metadata": {},
   "outputs": [
    {
     "data": {
      "text/plain": [
       "survival                 0\n",
       "still-alive              0\n",
       "age-at-heart-attack      0\n",
       "pericardial-effusion     0\n",
       "fractional-shortening    0\n",
       "epss                     0\n",
       "lvdd                     0\n",
       "wall-motion-score        0\n",
       "wall-motion-index        0\n",
       "mult                     0\n",
       "name                     0\n",
       "group                    0\n",
       "alive-at-1               0\n",
       "dtype: int64"
      ]
     },
     "execution_count": 21,
     "metadata": {},
     "output_type": "execute_result"
    }
   ],
   "source": [
    "df.isnull().sum()"
   ]
  },
  {
   "cell_type": "code",
   "execution_count": 22,
   "metadata": {},
   "outputs": [],
   "source": [
    "# Lets replace for a proper value such as nan \n",
    "df = df.replace('?', np.nan)"
   ]
  },
  {
   "attachments": {},
   "cell_type": "markdown",
   "metadata": {},
   "source": [
    "Ahora podemos ver que los valores nulos coinciden con los mencionados en .names"
   ]
  },
  {
   "cell_type": "code",
   "execution_count": 23,
   "metadata": {},
   "outputs": [
    {
     "data": {
      "text/plain": [
       "survival                  2\n",
       "still-alive               1\n",
       "age-at-heart-attack       5\n",
       "pericardial-effusion      1\n",
       "fractional-shortening     8\n",
       "epss                     15\n",
       "lvdd                     11\n",
       "wall-motion-score         4\n",
       "wall-motion-index         1\n",
       "mult                      4\n",
       "name                      0\n",
       "group                    22\n",
       "alive-at-1               58\n",
       "dtype: int64"
      ]
     },
     "execution_count": 23,
     "metadata": {},
     "output_type": "execute_result"
    }
   ],
   "source": [
    "df.isnull().sum()"
   ]
  },
  {
   "attachments": {},
   "cell_type": "markdown",
   "metadata": {},
   "source": [
    "b) Assign the attributes with meaningful names. You can look for this information on the same \n",
    "webpage.\n"
   ]
  },
  {
   "cell_type": "code",
   "execution_count": 24,
   "metadata": {},
   "outputs": [
    {
     "data": {
      "text/plain": [
       "Index(['survival', 'still-alive', 'age-at-heart-attack',\n",
       "       'pericardial-effusion', 'fractional-shortening', 'epss', 'lvdd',\n",
       "       'wall-motion-score', 'wall-motion-index', 'mult', 'name', 'group',\n",
       "       'alive-at-1'],\n",
       "      dtype='object')"
      ]
     },
     "execution_count": 24,
     "metadata": {},
     "output_type": "execute_result"
    }
   ],
   "source": [
    "# The attributes have meaningful names, as we can see at the beggining. \n",
    "df.columns"
   ]
  },
  {
   "attachments": {},
   "cell_type": "markdown",
   "metadata": {},
   "source": [
    "c) According to that same information, is there any redundant or irrelevant attribute that you can \n",
    "remove? Remove them."
   ]
  },
  {
   "cell_type": "code",
   "execution_count": 25,
   "metadata": {},
   "outputs": [
    {
     "data": {
      "text/html": [
       "<div>\n",
       "<style scoped>\n",
       "    .dataframe tbody tr th:only-of-type {\n",
       "        vertical-align: middle;\n",
       "    }\n",
       "\n",
       "    .dataframe tbody tr th {\n",
       "        vertical-align: top;\n",
       "    }\n",
       "\n",
       "    .dataframe thead th {\n",
       "        text-align: right;\n",
       "    }\n",
       "</style>\n",
       "<table border=\"1\" class=\"dataframe\">\n",
       "  <thead>\n",
       "    <tr style=\"text-align: right;\">\n",
       "      <th></th>\n",
       "      <th>survival</th>\n",
       "      <th>still-alive</th>\n",
       "      <th>age-at-heart-attack</th>\n",
       "      <th>pericardial-effusion</th>\n",
       "      <th>fractional-shortening</th>\n",
       "      <th>epss</th>\n",
       "      <th>lvdd</th>\n",
       "      <th>wall-motion-score</th>\n",
       "      <th>wall-motion-index</th>\n",
       "      <th>alive-at-1</th>\n",
       "    </tr>\n",
       "  </thead>\n",
       "  <tbody>\n",
       "    <tr>\n",
       "      <th>0</th>\n",
       "      <td>11</td>\n",
       "      <td>0</td>\n",
       "      <td>71</td>\n",
       "      <td>0</td>\n",
       "      <td>0.260</td>\n",
       "      <td>9</td>\n",
       "      <td>4.600</td>\n",
       "      <td>14</td>\n",
       "      <td>1</td>\n",
       "      <td>0</td>\n",
       "    </tr>\n",
       "    <tr>\n",
       "      <th>1</th>\n",
       "      <td>19</td>\n",
       "      <td>0</td>\n",
       "      <td>72</td>\n",
       "      <td>0</td>\n",
       "      <td>0.380</td>\n",
       "      <td>6</td>\n",
       "      <td>4.100</td>\n",
       "      <td>14</td>\n",
       "      <td>1.700</td>\n",
       "      <td>0</td>\n",
       "    </tr>\n",
       "    <tr>\n",
       "      <th>2</th>\n",
       "      <td>16</td>\n",
       "      <td>0</td>\n",
       "      <td>55</td>\n",
       "      <td>0</td>\n",
       "      <td>0.260</td>\n",
       "      <td>4</td>\n",
       "      <td>3.420</td>\n",
       "      <td>14</td>\n",
       "      <td>1</td>\n",
       "      <td>0</td>\n",
       "    </tr>\n",
       "    <tr>\n",
       "      <th>3</th>\n",
       "      <td>57</td>\n",
       "      <td>0</td>\n",
       "      <td>60</td>\n",
       "      <td>0</td>\n",
       "      <td>0.253</td>\n",
       "      <td>12.062</td>\n",
       "      <td>4.603</td>\n",
       "      <td>16</td>\n",
       "      <td>1.450</td>\n",
       "      <td>0</td>\n",
       "    </tr>\n",
       "    <tr>\n",
       "      <th>4</th>\n",
       "      <td>19</td>\n",
       "      <td>1</td>\n",
       "      <td>57</td>\n",
       "      <td>0</td>\n",
       "      <td>0.160</td>\n",
       "      <td>22</td>\n",
       "      <td>5.750</td>\n",
       "      <td>18</td>\n",
       "      <td>2.250</td>\n",
       "      <td>0</td>\n",
       "    </tr>\n",
       "    <tr>\n",
       "      <th>...</th>\n",
       "      <td>...</td>\n",
       "      <td>...</td>\n",
       "      <td>...</td>\n",
       "      <td>...</td>\n",
       "      <td>...</td>\n",
       "      <td>...</td>\n",
       "      <td>...</td>\n",
       "      <td>...</td>\n",
       "      <td>...</td>\n",
       "      <td>...</td>\n",
       "    </tr>\n",
       "    <tr>\n",
       "      <th>127</th>\n",
       "      <td>7.5</td>\n",
       "      <td>1</td>\n",
       "      <td>64</td>\n",
       "      <td>0</td>\n",
       "      <td>0.24</td>\n",
       "      <td>12.9</td>\n",
       "      <td>4.72</td>\n",
       "      <td>12</td>\n",
       "      <td>1</td>\n",
       "      <td>NaN</td>\n",
       "    </tr>\n",
       "    <tr>\n",
       "      <th>128</th>\n",
       "      <td>41</td>\n",
       "      <td>0</td>\n",
       "      <td>64</td>\n",
       "      <td>0</td>\n",
       "      <td>0.28</td>\n",
       "      <td>5.40</td>\n",
       "      <td>5.47</td>\n",
       "      <td>11</td>\n",
       "      <td>1.10</td>\n",
       "      <td>NaN</td>\n",
       "    </tr>\n",
       "    <tr>\n",
       "      <th>129</th>\n",
       "      <td>36</td>\n",
       "      <td>0</td>\n",
       "      <td>69</td>\n",
       "      <td>0</td>\n",
       "      <td>0.20</td>\n",
       "      <td>7.00</td>\n",
       "      <td>5.05</td>\n",
       "      <td>14.5</td>\n",
       "      <td>1.21</td>\n",
       "      <td>NaN</td>\n",
       "    </tr>\n",
       "    <tr>\n",
       "      <th>130</th>\n",
       "      <td>22</td>\n",
       "      <td>0</td>\n",
       "      <td>57</td>\n",
       "      <td>0</td>\n",
       "      <td>0.14</td>\n",
       "      <td>16.1</td>\n",
       "      <td>4.36</td>\n",
       "      <td>15</td>\n",
       "      <td>1.36</td>\n",
       "      <td>NaN</td>\n",
       "    </tr>\n",
       "    <tr>\n",
       "      <th>131</th>\n",
       "      <td>20</td>\n",
       "      <td>0</td>\n",
       "      <td>62</td>\n",
       "      <td>0</td>\n",
       "      <td>0.15</td>\n",
       "      <td>0</td>\n",
       "      <td>4.51</td>\n",
       "      <td>15.5</td>\n",
       "      <td>1.409</td>\n",
       "      <td>NaN</td>\n",
       "    </tr>\n",
       "  </tbody>\n",
       "</table>\n",
       "<p>132 rows × 10 columns</p>\n",
       "</div>"
      ],
      "text/plain": [
       "    survival still-alive age-at-heart-attack pericardial-effusion  \\\n",
       "0         11           0                  71                    0   \n",
       "1         19           0                  72                    0   \n",
       "2         16           0                  55                    0   \n",
       "3         57           0                  60                    0   \n",
       "4         19           1                  57                    0   \n",
       "..       ...         ...                 ...                  ...   \n",
       "127      7.5           1                  64                    0   \n",
       "128       41           0                  64                    0   \n",
       "129       36           0                  69                    0   \n",
       "130       22           0                  57                    0   \n",
       "131       20           0                  62                    0   \n",
       "\n",
       "    fractional-shortening    epss   lvdd wall-motion-score wall-motion-index  \\\n",
       "0                   0.260       9  4.600                14                 1   \n",
       "1                   0.380       6  4.100                14             1.700   \n",
       "2                   0.260       4  3.420                14                 1   \n",
       "3                   0.253  12.062  4.603                16             1.450   \n",
       "4                   0.160      22  5.750                18             2.250   \n",
       "..                    ...     ...    ...               ...               ...   \n",
       "127                  0.24    12.9   4.72                12                 1   \n",
       "128                  0.28    5.40   5.47                11              1.10   \n",
       "129                  0.20    7.00   5.05              14.5              1.21   \n",
       "130                  0.14    16.1   4.36                15              1.36   \n",
       "131                  0.15       0   4.51              15.5             1.409   \n",
       "\n",
       "    alive-at-1  \n",
       "0            0  \n",
       "1            0  \n",
       "2            0  \n",
       "3            0  \n",
       "4            0  \n",
       "..         ...  \n",
       "127        NaN  \n",
       "128        NaN  \n",
       "129        NaN  \n",
       "130        NaN  \n",
       "131        NaN  \n",
       "\n",
       "[132 rows x 10 columns]"
      ]
     },
     "execution_count": 25,
     "metadata": {},
     "output_type": "execute_result"
    }
   ],
   "source": [
    "# Yes we have the following: \n",
    "# mult -- a derivate var which can be ignored\n",
    "# name -- the name of the patient (I have replaced them with \"name\")\n",
    "# group -- meaningless, ignore it\n",
    "\n",
    "# Lets remove it\n",
    "df.drop(columns=['mult', 'name', 'group'], axis = 1, inplace = True)\n",
    "df"
   ]
  },
  {
   "attachments": {},
   "cell_type": "markdown",
   "metadata": {},
   "source": [
    "d) Is there any data type change that you find useful? Perform it.\n"
   ]
  },
  {
   "cell_type": "code",
   "execution_count": 26,
   "metadata": {},
   "outputs": [
    {
     "name": "stdout",
     "output_type": "stream",
     "text": [
      "<class 'pandas.core.frame.DataFrame'>\n",
      "RangeIndex: 132 entries, 0 to 131\n",
      "Data columns (total 10 columns):\n",
      " #   Column                 Non-Null Count  Dtype \n",
      "---  ------                 --------------  ----- \n",
      " 0   survival               130 non-null    object\n",
      " 1   still-alive            131 non-null    object\n",
      " 2   age-at-heart-attack    127 non-null    object\n",
      " 3   pericardial-effusion   131 non-null    object\n",
      " 4   fractional-shortening  124 non-null    object\n",
      " 5   epss                   117 non-null    object\n",
      " 6   lvdd                   121 non-null    object\n",
      " 7   wall-motion-score      128 non-null    object\n",
      " 8   wall-motion-index      131 non-null    object\n",
      " 9   alive-at-1             74 non-null     object\n",
      "dtypes: object(10)\n",
      "memory usage: 10.4+ KB\n"
     ]
    }
   ],
   "source": [
    "df.info()"
   ]
  },
  {
   "attachments": {},
   "cell_type": "markdown",
   "metadata": {},
   "source": [
    "Since all values are numeric all should be at least float values"
   ]
  },
  {
   "cell_type": "code",
   "execution_count": 30,
   "metadata": {},
   "outputs": [],
   "source": [
    "for i in df.columns:\n",
    "    df[i] = pd.to_numeric(df[i])"
   ]
  },
  {
   "cell_type": "code",
   "execution_count": 32,
   "metadata": {},
   "outputs": [
    {
     "name": "stdout",
     "output_type": "stream",
     "text": [
      "<class 'pandas.core.frame.DataFrame'>\n",
      "RangeIndex: 132 entries, 0 to 131\n",
      "Data columns (total 10 columns):\n",
      " #   Column                 Non-Null Count  Dtype  \n",
      "---  ------                 --------------  -----  \n",
      " 0   survival               130 non-null    float64\n",
      " 1   still-alive            131 non-null    float64\n",
      " 2   age-at-heart-attack    127 non-null    float64\n",
      " 3   pericardial-effusion   131 non-null    float64\n",
      " 4   fractional-shortening  124 non-null    float64\n",
      " 5   epss                   117 non-null    float64\n",
      " 6   lvdd                   121 non-null    float64\n",
      " 7   wall-motion-score      128 non-null    float64\n",
      " 8   wall-motion-index      131 non-null    float64\n",
      " 9   alive-at-1             74 non-null     float64\n",
      "dtypes: float64(10)\n",
      "memory usage: 10.4 KB\n"
     ]
    }
   ],
   "source": [
    "df.info()"
   ]
  },
  {
   "attachments": {},
   "cell_type": "markdown",
   "metadata": {},
   "source": [
    "## Data Manipulation"
   ]
  },
  {
   "attachments": {},
   "cell_type": "markdown",
   "metadata": {},
   "source": [
    "### Load the `airquality` data set regarding a set of New York Air Quality Measurements"
   ]
  },
  {
   "attachments": {},
   "cell_type": "markdown",
   "metadata": {},
   "source": [
    "n)  For which attributes are there missing values?"
   ]
  },
  {
   "cell_type": "code",
   "execution_count": 49,
   "metadata": {},
   "outputs": [
    {
     "data": {
      "text/html": [
       "<div>\n",
       "<style scoped>\n",
       "    .dataframe tbody tr th:only-of-type {\n",
       "        vertical-align: middle;\n",
       "    }\n",
       "\n",
       "    .dataframe tbody tr th {\n",
       "        vertical-align: top;\n",
       "    }\n",
       "\n",
       "    .dataframe thead th {\n",
       "        text-align: right;\n",
       "    }\n",
       "</style>\n",
       "<table border=\"1\" class=\"dataframe\">\n",
       "  <thead>\n",
       "    <tr style=\"text-align: right;\">\n",
       "      <th></th>\n",
       "      <th>Ozone</th>\n",
       "      <th>Solar.R</th>\n",
       "      <th>Wind</th>\n",
       "      <th>Temp</th>\n",
       "      <th>Month</th>\n",
       "      <th>Day</th>\n",
       "    </tr>\n",
       "  </thead>\n",
       "  <tbody>\n",
       "    <tr>\n",
       "      <th>1</th>\n",
       "      <td>41</td>\n",
       "      <td>190</td>\n",
       "      <td>7.4</td>\n",
       "      <td>67</td>\n",
       "      <td>5</td>\n",
       "      <td>1</td>\n",
       "    </tr>\n",
       "    <tr>\n",
       "      <th>2</th>\n",
       "      <td>36</td>\n",
       "      <td>118</td>\n",
       "      <td>8.0</td>\n",
       "      <td>72</td>\n",
       "      <td>5</td>\n",
       "      <td>2</td>\n",
       "    </tr>\n",
       "    <tr>\n",
       "      <th>3</th>\n",
       "      <td>12</td>\n",
       "      <td>149</td>\n",
       "      <td>12.6</td>\n",
       "      <td>74</td>\n",
       "      <td>5</td>\n",
       "      <td>3</td>\n",
       "    </tr>\n",
       "    <tr>\n",
       "      <th>4</th>\n",
       "      <td>18</td>\n",
       "      <td>313</td>\n",
       "      <td>11.5</td>\n",
       "      <td>62</td>\n",
       "      <td>5</td>\n",
       "      <td>4</td>\n",
       "    </tr>\n",
       "    <tr>\n",
       "      <th>5</th>\n",
       "      <td>-2147483648</td>\n",
       "      <td>-2147483648</td>\n",
       "      <td>14.3</td>\n",
       "      <td>56</td>\n",
       "      <td>5</td>\n",
       "      <td>5</td>\n",
       "    </tr>\n",
       "  </tbody>\n",
       "</table>\n",
       "</div>"
      ],
      "text/plain": [
       "        Ozone     Solar.R  Wind  Temp  Month  Day\n",
       "1          41         190   7.4    67      5    1\n",
       "2          36         118   8.0    72      5    2\n",
       "3          12         149  12.6    74      5    3\n",
       "4          18         313  11.5    62      5    4\n",
       "5 -2147483648 -2147483648  14.3    56      5    5"
      ]
     },
     "execution_count": 49,
     "metadata": {},
     "output_type": "execute_result"
    }
   ],
   "source": [
    "import rpy2.robjects as robjects\n",
    "from rpy2.robjects.packages import importr\n",
    "\n",
    "# import R's \"datasets\" package\n",
    "datasets = importr('datasets')\n",
    "\n",
    "# load the airquality dataset\n",
    "airquality_r = datasets.__rdata__.fetch('airquality')['airquality']\n",
    "\n",
    "# convert the R dataframe to a pandas dataframe\n",
    "airquality_df = robjects.conversion.rpy2py(airquality_r)\n",
    "\n",
    "airquality_df.head()\n"
   ]
  },
  {
   "cell_type": "code",
   "execution_count": 50,
   "metadata": {},
   "outputs": [
    {
     "data": {
      "text/plain": [
       "Ozone      0\n",
       "Solar.R    0\n",
       "Wind       0\n",
       "Temp       0\n",
       "Month      0\n",
       "Day        0\n",
       "dtype: int64"
      ]
     },
     "execution_count": 50,
     "metadata": {},
     "output_type": "execute_result"
    }
   ],
   "source": [
    "# Check missing values\n",
    "airquality_df.isnull().sum()\n"
   ]
  },
  {
   "attachments": {},
   "cell_type": "markdown",
   "metadata": {},
   "source": [
    "We have Ozone and Solar.R with missing values"
   ]
  },
  {
   "attachments": {},
   "cell_type": "markdown",
   "metadata": {},
   "source": [
    "o)  Do all the attributes are in the most suitable data type? Make the changes you find necessary"
   ]
  },
  {
   "cell_type": "code",
   "execution_count": 51,
   "metadata": {},
   "outputs": [
    {
     "name": "stdout",
     "output_type": "stream",
     "text": [
      "<class 'pandas.core.frame.DataFrame'>\n",
      "Index: 153 entries, 1 to 153\n",
      "Data columns (total 6 columns):\n",
      " #   Column   Non-Null Count  Dtype  \n",
      "---  ------   --------------  -----  \n",
      " 0   Ozone    153 non-null    int64  \n",
      " 1   Solar.R  153 non-null    int64  \n",
      " 2   Wind     153 non-null    float64\n",
      " 3   Temp     153 non-null    int64  \n",
      " 4   Month    153 non-null    int64  \n",
      " 5   Day      153 non-null    int64  \n",
      "dtypes: float64(1), int64(5)\n",
      "memory usage: 8.4+ KB\n"
     ]
    }
   ],
   "source": [
    "airquality_df.info() # Yes the have most suitable data type except for date"
   ]
  },
  {
   "cell_type": "code",
   "execution_count": 66,
   "metadata": {},
   "outputs": [],
   "source": [
    "df['Month'] = df['Month'].astype('datetime64[M]')\n",
    "df['Day'] = df['Day'].astype('datetime64[D]')"
   ]
  },
  {
   "cell_type": "code",
   "execution_count": 67,
   "metadata": {},
   "outputs": [
    {
     "name": "stdout",
     "output_type": "stream",
     "text": [
      "<class 'pandas.core.frame.DataFrame'>\n",
      "RangeIndex: 153 entries, 0 to 152\n",
      "Data columns (total 6 columns):\n",
      " #   Column   Non-Null Count  Dtype        \n",
      "---  ------   --------------  -----        \n",
      " 0   Ozone    116 non-null    float64      \n",
      " 1   Solar.R  146 non-null    float64      \n",
      " 2   Wind     153 non-null    float64      \n",
      " 3   Temp     153 non-null    int64        \n",
      " 4   Month    153 non-null    datetime64[s]\n",
      " 5   Day      153 non-null    datetime64[s]\n",
      "dtypes: datetime64[s](2), float64(3), int64(1)\n",
      "memory usage: 7.3 KB\n"
     ]
    }
   ],
   "source": [
    "df.info()"
   ]
  },
  {
   "attachments": {},
   "cell_type": "markdown",
   "metadata": {},
   "source": [
    "p) What period of the year do these records refer to?\n"
   ]
  },
  {
   "cell_type": "code",
   "execution_count": 68,
   "metadata": {},
   "outputs": [
    {
     "data": {
      "text/plain": [
       "array([5, 6, 7, 8, 9])"
      ]
     },
     "execution_count": 68,
     "metadata": {},
     "output_type": "execute_result"
    }
   ],
   "source": [
    "airquality_df['Month'].unique()"
   ]
  },
  {
   "cell_type": "code",
   "execution_count": 69,
   "metadata": {},
   "outputs": [
    {
     "data": {
      "text/plain": [
       "array([ 1,  2,  3,  4,  5,  6,  7,  8,  9, 10, 11, 12, 13, 14, 15, 16, 17,\n",
       "       18, 19, 20, 21, 22, 23, 24, 25, 26, 27, 28, 29, 30, 31])"
      ]
     },
     "execution_count": 69,
     "metadata": {},
     "output_type": "execute_result"
    }
   ],
   "source": [
    "airquality_df['Day'].unique()"
   ]
  },
  {
   "cell_type": "code",
   "execution_count": 76,
   "metadata": {},
   "outputs": [
    {
     "data": {
      "image/png": "[encoded data removed]",
      "text/plain": [
       "<Figure size 1000x600 with 1 Axes>"
      ]
     },
     "metadata": {},
     "output_type": "display_data"
    }
   ],
   "source": [
    "# Lets graph to see the period which is from July to September\n",
    "plt.figure(figsize=(10, 6))\n",
    "sns.countplot(x='Month', data=airquality_df)\n",
    "plt.title('Number of Records by Month')\n",
    "plt.xlabel('Month')\n",
    "plt.ylabel('Number of Records')\n",
    "plt.show()"
   ]
  },
  {
   "attachments": {},
   "cell_type": "markdown",
   "metadata": {},
   "source": [
    "q)  Load the package dplyr and save the data set in a table data frame format.\n"
   ]
  },
  {
   "attachments": {},
   "cell_type": "markdown",
   "metadata": {},
   "source": [
    "Just for R"
   ]
  }
 ],
 "metadata": {
  "kernelspec": {
   "display_name": "Python 3",
   "language": "python",
   "name": "python3"
  },
  "language_info": {
   "codemirror_mode": {
    "name": "ipython",
    "version": 3
   },
   "file_extension": ".py",
   "mimetype": "text/x-python",
   "name": "python",
   "nbconvert_exporter": "python",
   "pygments_lexer": "ipython3",
   "version": "3.11.3"
  }
 },
 "nbformat": 4,
 "nbformat_minor": 0
}
