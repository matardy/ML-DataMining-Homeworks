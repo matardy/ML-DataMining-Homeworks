{
 "cells": [
  {
   "cell_type": "markdown",
   "source": [
    "# 1 Hands On: Data Import and Manipulation"
   ],
   "metadata": {
    "collapsed": false
   }
  },
  {
   "cell_type": "markdown",
   "source": [
    "## 1. Introduction to Python for Machine Learning\n",
    "(a) Create an array of 10 random integers between 1 and 100, and then calculate the mean and standard deviation of the array."
   ],
   "metadata": {
    "collapsed": false
   }
  },
  {
   "cell_type": "code",
   "execution_count": 3,
   "outputs": [
    {
     "name": "stdout",
     "output_type": "stream",
     "text": [
      "Array: [20, 54, 24, 57, 78, 51, 95, 98, 100, 19]\n",
      "Mean: 59.6\n",
      "Standard Deviation: 30.486718419665962\n"
     ]
    }
   ],
   "source": [
    "import random\n",
    "import math\n",
    "\n",
    "# Generate an array of 10 random integers between 1 and 100\n",
    "random_array = [random.randint(1, 100) for _ in range(10)]\n",
    "\n",
    "# Calculate the mean\n",
    "mean = sum(random_array) / len(random_array)\n",
    "\n",
    "# Calculate the standard deviation\n",
    "variance = sum((x - mean) ** 2 for x in random_array) / len(random_array)\n",
    "std_deviation = math.sqrt(variance)\n",
    "\n",
    "# Print the array, mean, and standard deviation\n",
    "print(\"Array:\", random_array)\n",
    "print(\"Mean:\", mean)\n",
    "print(\"Standard Deviation:\", std_deviation)"
   ],
   "metadata": {
    "collapsed": false
   }
  },
  {
   "cell_type": "markdown",
   "source": [
    "(b) Create a 2-dimensional array of 3 rows and 4 columns with random integer values. Then, calculate the sum of each row and column."
   ],
   "metadata": {
    "collapsed": false
   }
  },
  {
   "cell_type": "code",
   "execution_count": 4,
   "outputs": [
    {
     "name": "stdout",
     "output_type": "stream",
     "text": [
      "Array:\n",
      "[87, 12, 48, 15]\n",
      "[19, 89, 10, 5]\n",
      "[97, 10, 28, 23]\n",
      "Sum of each row: [162, 123, 158]\n",
      "Sum of each column: [203, 111, 86, 43]\n"
     ]
    }
   ],
   "source": [
    "import random\n",
    "\n",
    "# Create a 2-dimensional array of 3 rows and 4 columns with random integer values\n",
    "array = [[random.randint(1, 100) for _ in range(4)] for _ in range(3)]\n",
    "\n",
    "# Calculate the sum of each row\n",
    "row_sums = [sum(row) for row in array]\n",
    "\n",
    "# Calculate the sum of each column\n",
    "column_sums = [sum(col) for col in zip(*array)]\n",
    "\n",
    "# Print the array, sum of each row, and sum of each column\n",
    "print(\"Array:\")\n",
    "for row in array:\n",
    "    print(row)\n",
    "print(\"Sum of each row:\", row_sums)\n",
    "print(\"Sum of each column:\", column_sums)"
   ],
   "metadata": {
    "collapsed": false
   }
  },
  {
   "cell_type": "markdown",
   "source": [
    "(c) Create a DataFrame with 3 columns: \"Name\", \"Age\", and \"City\". Add at least 5 rows of data to the DataFrame. Then, filter the DataFrame to only include rows where the person's age is greater than or equal to 30."
   ],
   "metadata": {
    "collapsed": false
   }
  },
  {
   "cell_type": "code",
   "execution_count": 5,
   "outputs": [
    {
     "name": "stdout",
     "output_type": "stream",
     "text": [
      "      Name  Age       City\n",
      "1     Pepe   35  Guayaquil\n",
      "2   Miguel   42  Sangolqui\n",
      "4  Vanessa   31     Cuenca\n"
     ]
    }
   ],
   "source": [
    "import pandas as pd\n",
    "\n",
    "# Create a DataFrame\n",
    "data = {\n",
    "    \"Name\": [\"Juan\", \"Pepe\", \"Miguel\", \"Sofia\", \"Vanessa\"],\n",
    "    \"Age\": [25, 35, 42, 28, 31],\n",
    "    \"City\": [\"Quito\", \"Guayaquil\", \"Sangolqui\", \"Manta\", \"Cuenca\"]\n",
    "}\n",
    "\n",
    "df = pd.DataFrame(data)\n",
    "\n",
    "# Filter the DataFrame\n",
    "filtered_df = df[df[\"Age\"] >= 30]\n",
    "\n",
    "# Print the filtered DataFrame\n",
    "print(filtered_df)"
   ],
   "metadata": {
    "collapsed": false
   }
  },
  {
   "cell_type": "markdown",
   "source": [
    "(d) Load a CSV file into a DataFrame and then calculate the mean, median, and mode of one of the columns in the DataFrame"
   ],
   "metadata": {
    "collapsed": false
   }
  },
  {
   "cell_type": "code",
   "execution_count": 6,
   "outputs": [
    {
     "name": "stdout",
     "output_type": "stream",
     "text": [
      "   BusinessYear StateCode  IssuerId SourceName  VersionNum  \\\n",
      "0          2014        PA     22444       HIOS           9   \n",
      "1          2014        PA     22444       HIOS           9   \n",
      "2          2014        PA     22444       HIOS           9   \n",
      "3          2014        PA     22444       HIOS           9   \n",
      "4          2014        PA     22444       HIOS           9   \n",
      "\n",
      "            ImportDate  IssuerId2 StateCode2 ServiceAreaId  \\\n",
      "0  2014-01-21 08:29:49      22444         PA        PAS001   \n",
      "1  2014-01-21 08:29:49      22444         PA        PAS001   \n",
      "2  2014-01-21 08:29:49      22444         PA        PAS001   \n",
      "3  2014-01-21 08:29:49      22444         PA        PAS001   \n",
      "4  2014-01-21 08:29:49      22444         PA        PAS001   \n",
      "\n",
      "         ServiceAreaName CoverEntireState   County PartialCounty ZipCodes  \\\n",
      "0  Geisinger Health Plan               No  42103.0            No      NaN   \n",
      "1  Geisinger Health Plan               No  42105.0            No      NaN   \n",
      "2  Geisinger Health Plan               No  42107.0            No      NaN   \n",
      "3  Geisinger Health Plan               No  42109.0            No      NaN   \n",
      "4  Geisinger Health Plan               No  42111.0            No      NaN   \n",
      "\n",
      "  PartialCountyJustification  RowNumber MarketCoverage DentalOnlyPlan  \n",
      "0                        NaN         42            NaN            NaN  \n",
      "1                        NaN         43            NaN            NaN  \n",
      "2                        NaN         44            NaN            NaN  \n",
      "3                        NaN         45            NaN            NaN  \n",
      "4                        NaN         46            NaN            NaN  \n",
      "Mean: 7.062087248798731\n",
      "Median: 6.0\n",
      "Mode: 0    6\n",
      "dtype: int64\n"
     ]
    }
   ],
   "source": [
    "import pandas as pd\n",
    "\n",
    "# Load the CSV file into a DataFrame\n",
    "df = pd.read_csv('../data/01_datamanip/servicearea.csv')\n",
    "\n",
    "# Calculate the mean of a column\n",
    "column_mean = df['VersionNum'].mean()\n",
    "\n",
    "# Calculate the median of a column\n",
    "column_median = df['VersionNum'].median()\n",
    "\n",
    "# Calculate the mode of a column\n",
    "column_mode = df['VersionNum'].mode()\n",
    "\n",
    "# Print the header of the DataFrame\n",
    "print(df.head())\n",
    "\n",
    "# Print the mean, median, and mode\n",
    "print(\"Mean:\", column_mean)\n",
    "print(\"Median:\", column_median)\n",
    "print(\"Mode:\", column_mode)"
   ],
   "metadata": {
    "collapsed": false
   }
  },
  {
   "cell_type": "markdown",
   "source": [
    "(e) Create a scatter plot of random x and y values between 1 and 100"
   ],
   "metadata": {
    "collapsed": false
   }
  },
  {
   "cell_type": "code",
   "execution_count": 7,
   "outputs": [
    {
     "data": {
      "text/plain": "<Figure size 432x288 with 1 Axes>",
      "image/png": "[encoded data removed]"
     },
     "metadata": {
      "needs_background": "light"
     },
     "output_type": "display_data"
    }
   ],
   "source": [
    "import matplotlib.pyplot as plt\n",
    "import random\n",
    "\n",
    "# Generate random x and y values\n",
    "x = [random.randint(1, 100) for _ in range(50)]\n",
    "y = [random.randint(1, 100) for _ in range(50)]\n",
    "\n",
    "# Create a scatter plot\n",
    "plt.scatter(x, y)\n",
    "\n",
    "# Add labels and title\n",
    "plt.xlabel('X values')\n",
    "plt.ylabel('Y values')\n",
    "plt.title('Scatter Plot of Random X and Y Values')\n",
    "\n",
    "# Show the plot\n",
    "plt.show()"
   ],
   "metadata": {
    "collapsed": false
   }
  },
  {
   "cell_type": "markdown",
   "source": [
    "(f) Load a CSV file into a DataFrame and then create a line chart of one of the columns in the DataFrame."
   ],
   "metadata": {
    "collapsed": false
   }
  },
  {
   "cell_type": "code",
   "execution_count": 8,
   "outputs": [
    {
     "data": {
      "text/plain": "<Figure size 432x288 with 1 Axes>",
      "image/png": "[encoded data removed]"
     },
     "metadata": {
      "needs_background": "light"
     },
     "output_type": "display_data"
    }
   ],
   "source": [
    "import pandas as pd\n",
    "import matplotlib.pyplot as plt\n",
    "\n",
    "# Load the CSV file into a DataFrame\n",
    "df = pd.read_csv('../data/01_datamanip/servicearea.csv')\n",
    "\n",
    "# Create a line chart of a column\n",
    "plt.plot(df['BusinessYear'])\n",
    "\n",
    "# Add labels and title\n",
    "plt.xlabel('Index')\n",
    "plt.ylabel('BusinessYear')\n",
    "plt.title('Line Chart of BusinessYear')\n",
    "\n",
    "# Show the plot\n",
    "plt.show()"
   ],
   "metadata": {
    "collapsed": false
   }
  },
  {
   "cell_type": "code",
   "execution_count": 8,
   "outputs": [],
   "source": [],
   "metadata": {
    "collapsed": false
   }
  }
 ],
 "metadata": {
  "kernelspec": {
   "display_name": "Python 3",
   "language": "python",
   "name": "python3"
  },
  "language_info": {
   "codemirror_mode": {
    "name": "ipython",
    "version": 2
   },
   "file_extension": ".py",
   "mimetype": "text/x-python",
   "name": "python",
   "nbconvert_exporter": "python",
   "pygments_lexer": "ipython2",
   "version": "2.7.6"
  }
 },
 "nbformat": 4,
 "nbformat_minor": 0
}
