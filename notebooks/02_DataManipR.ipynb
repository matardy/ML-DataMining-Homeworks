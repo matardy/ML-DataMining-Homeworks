{
 "cells": [
  {
   "cell_type": "code",
   "execution_count": 1,
   "metadata": {
    "vscode": {
     "languageId": "r"
    }
   },
   "outputs": [
    {
     "name": "stdout",
     "output_type": "stream",
     "text": [
      " [1] 46 36 27  9 77 51  3 91 50 80\n",
      "[1] 47\n",
      "[1] 29.53717\n"
     ]
    }
   ],
   "source": [
    "# Create an array of random numbers using sample()\n",
    "n <- 10   # Number of elements\n",
    "min_val <- 1   # Minimum value\n",
    "max_val <- 100   # Maximum value\n",
    "arr <- sample(min_val:max_val, n, replace = TRUE)\n",
    "\n",
    "# Print the array\n",
    "print(arr)\n",
    "print(mean(arr))\n",
    "print(sd(arr))"
   ]
  },
  {
   "cell_type": "code",
   "execution_count": 1,
   "metadata": {
    "vscode": {
     "languageId": "r"
    }
   },
   "outputs": [
    {
     "ename": "ERROR",
     "evalue": "Error in parse(text = x, srcfile = src): <text>:1:6: unexpected symbol\n1: from rpy2.robjects\n         ^\n",
     "output_type": "error",
     "traceback": [
      "Error in parse(text = x, srcfile = src): <text>:1:6: unexpected symbol\n1: from rpy2.robjects\n         ^\nTraceback:\n"
     ]
    }
   ],
   "source": [
    "from rpy2.robjects import r, pandas2ri\n",
    "pandas2ri.activate()\n",
    "\n",
    "airquality_r = r['airquality']\n",
    "airquality_df = pandas2ri.ri2py(airquality_r)\n",
    "\n",
    "print(airquality_df.head())"
   ]
  }
 ],
 "metadata": {
  "kernelspec": {
   "display_name": "R",
   "language": "R",
   "name": "ir"
  },
  "language_info": {
   "codemirror_mode": "r",
   "file_extension": ".r",
   "mimetype": "text/x-r-source",
   "name": "R",
   "pygments_lexer": "r",
   "version": "4.3.0"
  },
  "orig_nbformat": 4
 },
 "nbformat": 4,
 "nbformat_minor": 2
}
